{
 "cells": [
  {
   "cell_type": "markdown",
   "metadata": {},
   "source": [
    "# Written"
   ]
  },
  {
   "cell_type": "markdown",
   "metadata": {},
   "source": [
    "## Problem 1"
   ]
  },
  {
   "cell_type": "markdown",
   "metadata": {},
   "source": [
    "| X | Y |\n",
    "| --- | --- |\n",
    "| -1 | 0 |\n",
    "| 0 | 2 |\n",
    "| 1 | 4 |\n",
    "| 2 | 5 |"
   ]
  },
  {
   "cell_type": "markdown",
   "metadata": {},
   "source": [
    "We start with the understanding that the slope and intercept are calculated by $$w = (X^T X)^{-1} X^T Y$$ where X is equivalent to  $$\\begin{bmatrix} 1 & -1 \\\\ 1 & 0 \\\\ 1 & 1 \\\\ 1 & 2 \\end{bmatrix}$$"
   ]
  },
  {
   "cell_type": "markdown",
   "metadata": {},
   "source": [
    "First, we need to find $X^T X$ and $X^T Y$ which we do by multiplying the matrices accordingly. This yields: $$X^T X = \\begin{bmatrix} 1 & 1 & 1 & 1 \\\\ -1 & 0 & 1 & 2 \\end{bmatrix} \\begin{bmatrix} 1 & -1 \\\\ 1 & 0 \\\\ 1 & 1 \\\\ 1 & 2 \\end{bmatrix} = \\begin{bmatrix} 4 & 2 \\\\ 2 & 6 \\end{bmatrix}$$ and $$X^T Y = \\begin{bmatrix} 1 & 1 & 1 & 1 \\\\ -1 & 0 & 1 & 2 \\end{bmatrix} \\begin{bmatrix} 0 \\\\ 2 \\\\ 4 \\\\ 5 \\end{bmatrix} = \\begin{bmatrix} 11 \\\\ 14 \\end{bmatrix}$$"
   ]
  },
  {
   "cell_type": "markdown",
   "metadata": {},
   "source": [
    "Finally, we need to find $(X^T X)^{-1}$. Fortunately a formula exists for a 2x2 matrix which is $$\\begin{bmatrix} a & b \\\\ c & d \\end{bmatrix}^{-1} = 1/(ad - bc)\\begin{bmatrix} d & -b \\\\ -c & a \\end{bmatrix}$$ Putting $(X^T X)$ in we obtain: $$(X^T X)^{-1} = 1 / 20 \\begin{bmatrix} 6 & -2 \\\\ -2 & 4 \\end{bmatrix} = \\begin{bmatrix} 0.3 & -0.1 \\\\ -0.1 & 0.2 \\end{bmatrix}$$"
   ]
  },
  {
   "cell_type": "markdown",
   "metadata": {},
   "source": [
    "Now putting it into the final formula we obtain: $$w = (X^T X)^{-1} X^T Y = \\begin{bmatrix} 0.3 & -0.1 \\\\ -0.1 & 0.2 \\end{bmatrix} \\begin{bmatrix} 11 \\\\ 14 \\end{bmatrix} = \\begin{bmatrix} 1.9 \\\\ 1.7 \\end{bmatrix} $$"
   ]
  },
  {
   "cell_type": "code",
   "execution_count": 16,
   "metadata": {},
   "outputs": [
    {
     "name": "stdout",
     "output_type": "stream",
     "text": [
      "[0.2, 1.9, 3.6, 5.3]\n"
     ]
    },
    {
     "data": {
      "image/png": "[encoded data removed]",
      "text/plain": [
       "<Figure size 640x480 with 1 Axes>"
      ]
     },
     "metadata": {},
     "output_type": "display_data"
    }
   ],
   "source": [
    "import matplotlib.pyplot as plt\n",
    "\n",
    "X = [-1, 0, 1, 2]\n",
    "Y = [0, 2, 4, 5]\n",
    "regression_function = lambda x: round((x * 1.7) + 1.9, 2)\n",
    "Yhat = list(map(regression_function, X))\n",
    "print(Yhat)\n",
    "\n",
    "fig, ax = plt.subplots()\n",
    "ax.scatter(X, Y, c='blue', label='Y')\n",
    "ax.scatter(X, Yhat, c='red', label='Estimated Y')\n",
    "\n",
    "ax.legend()\n",
    "ax.grid(True)\n",
    "\n",
    "plt.show()"
   ]
  },
  {
   "cell_type": "markdown",
   "metadata": {},
   "source": [
    "## Problem 2"
   ]
  },
  {
   "cell_type": "markdown",
   "metadata": {},
   "source": [
    "The Mean Squared Error is found by $1/n \\Sigma^{n}_{i=1} (y_i - \\hat{y_i})^2$, and the Mean Absolute Error by $1/n \\Sigma^{n}_{i=1} |y_i - \\hat{y_i}|$"
   ]
  },
  {
   "cell_type": "markdown",
   "metadata": {},
   "source": [
    "$ MSE = 1/n \\Sigma^{n}_{i=1} (y_i - \\hat{y_i})^2 = 1/4 ((0 - 0.2)^2 + (2 - 1.9)^2 + (4 - 3.6)^2 + (5 - 5.3)^2) = 1/4 (0.04 + 0.01 + 0.16 + 0.09) = 1/4 * 0.3 ~= 0.08 $"
   ]
  },
  {
   "cell_type": "markdown",
   "metadata": {},
   "source": [
    "$ MAE = 1/n \\Sigma^{n}_{i=1} |y_i - \\hat{y_i}| = 1/4 (|0 - 0.2| + |2 - 1.9| + |4 - 3.6| + |5 - 5.3|) = 1/4 (0.2 + 0.1 + 0.4 + 0.3) = 1/4 * 1 = 0.25 $"
   ]
  },
  {
   "cell_type": "markdown",
   "metadata": {},
   "source": [
    "## Problem 3"
   ]
  },
  {
   "cell_type": "markdown",
   "metadata": {},
   "source": [
    "The bias and variance for this model are determined with equations $$ Bias = 1/n \\Sigma^n_{i=1} (y - E(\\hat{y}))^2 $$ and $$ Variance = 1/n \\Sigma^n_{i=1} (\\hat{y} - E(\\hat{y}))^2 $$"
   ]
  },
  {
   "cell_type": "markdown",
   "metadata": {},
   "source": [
    "First we need to find the value $ E(\\hat{y}) $, which is: $$ E(\\hat{y}) = 1/n \\Sigma^n_{i=1} \\hat{y} = 1/4 (0.2 + 1.9 + 3.6 + 5.3) = 1/4 * 11 = 11/4 $$"
   ]
  },
  {
   "cell_type": "markdown",
   "metadata": {},
   "source": [
    "Using this we obtain values: $$ Bias = 1/n \\Sigma^n_{i=1} (y - E(\\hat{y}))^2 = 1/4 ((0 - 11/4)^2 + (2 - 11/4)^2 + (4 - 11/4)^2 + (5 - 11/4)^2) = 1/4 (7.5625 + 0.5625 + 1.5625 + 5.0625) = 1/4 * 14.75 = 3.69 $$ and $$ Variance = 1/n \\Sigma^n_{i=1} (\\hat{y} - E(\\hat{y}))^2 = 1/4 ((0.2 - 11/4)^2 + (1.9 - 11/4)^2 + (3.6 - 11/4)^2 + (5.3 - 11/4)^2) = 1/4 (6.5025 + 0.7225 + 0.7225 + 6.5025) = 1/4 * 14.45 = 3.61 $$"
   ]
  },
  {
   "cell_type": "markdown",
   "metadata": {},
   "source": [
    "# Programming"
   ]
  },
  {
   "cell_type": "code",
   "execution_count": 1,
   "metadata": {},
   "outputs": [],
   "source": [
    "import pandas as pd\n",
    "import numpy as np\n",
    "\n",
    "from sklearn.model_selection import train_test_split\n",
    "from sklearn.linear_model import LinearRegression, Ridge, Lasso\n",
    "from sklearn.metrics import mean_squared_error, r2_score\n",
    "from sklearn.preprocessing import PolynomialFeatures"
   ]
  },
  {
   "cell_type": "markdown",
   "metadata": {},
   "source": [
    "## Problem 1"
   ]
  },
  {
   "cell_type": "code",
   "execution_count": 2,
   "metadata": {},
   "outputs": [
    {
     "data": {
      "text/html": [
       "<div>\n",
       "<style scoped>\n",
       "    .dataframe tbody tr th:only-of-type {\n",
       "        vertical-align: middle;\n",
       "    }\n",
       "\n",
       "    .dataframe tbody tr th {\n",
       "        vertical-align: top;\n",
       "    }\n",
       "\n",
       "    .dataframe thead th {\n",
       "        text-align: right;\n",
       "    }\n",
       "</style>\n",
       "<table border=\"1\" class=\"dataframe\">\n",
       "  <thead>\n",
       "    <tr style=\"text-align: right;\">\n",
       "      <th></th>\n",
       "      <th>0</th>\n",
       "      <th>1</th>\n",
       "      <th>2</th>\n",
       "      <th>3</th>\n",
       "      <th>4</th>\n",
       "      <th>5</th>\n",
       "      <th>6</th>\n",
       "      <th>7</th>\n",
       "      <th>8</th>\n",
       "      <th>9</th>\n",
       "      <th>...</th>\n",
       "      <th>16</th>\n",
       "      <th>17</th>\n",
       "      <th>18</th>\n",
       "      <th>19</th>\n",
       "      <th>20</th>\n",
       "      <th>21</th>\n",
       "      <th>22</th>\n",
       "      <th>23</th>\n",
       "      <th>24</th>\n",
       "      <th>25</th>\n",
       "    </tr>\n",
       "  </thead>\n",
       "  <tbody>\n",
       "    <tr>\n",
       "      <th>0</th>\n",
       "      <td>3</td>\n",
       "      <td>?</td>\n",
       "      <td>alfa-romero</td>\n",
       "      <td>gas</td>\n",
       "      <td>std</td>\n",
       "      <td>two</td>\n",
       "      <td>convertible</td>\n",
       "      <td>rwd</td>\n",
       "      <td>front</td>\n",
       "      <td>88.6</td>\n",
       "      <td>...</td>\n",
       "      <td>130</td>\n",
       "      <td>mpfi</td>\n",
       "      <td>3.47</td>\n",
       "      <td>2.68</td>\n",
       "      <td>9.0</td>\n",
       "      <td>111</td>\n",
       "      <td>5000</td>\n",
       "      <td>21</td>\n",
       "      <td>27</td>\n",
       "      <td>13495</td>\n",
       "    </tr>\n",
       "    <tr>\n",
       "      <th>1</th>\n",
       "      <td>3</td>\n",
       "      <td>?</td>\n",
       "      <td>alfa-romero</td>\n",
       "      <td>gas</td>\n",
       "      <td>std</td>\n",
       "      <td>two</td>\n",
       "      <td>convertible</td>\n",
       "      <td>rwd</td>\n",
       "      <td>front</td>\n",
       "      <td>88.6</td>\n",
       "      <td>...</td>\n",
       "      <td>130</td>\n",
       "      <td>mpfi</td>\n",
       "      <td>3.47</td>\n",
       "      <td>2.68</td>\n",
       "      <td>9.0</td>\n",
       "      <td>111</td>\n",
       "      <td>5000</td>\n",
       "      <td>21</td>\n",
       "      <td>27</td>\n",
       "      <td>16500</td>\n",
       "    </tr>\n",
       "    <tr>\n",
       "      <th>2</th>\n",
       "      <td>1</td>\n",
       "      <td>?</td>\n",
       "      <td>alfa-romero</td>\n",
       "      <td>gas</td>\n",
       "      <td>std</td>\n",
       "      <td>two</td>\n",
       "      <td>hatchback</td>\n",
       "      <td>rwd</td>\n",
       "      <td>front</td>\n",
       "      <td>94.5</td>\n",
       "      <td>...</td>\n",
       "      <td>152</td>\n",
       "      <td>mpfi</td>\n",
       "      <td>2.68</td>\n",
       "      <td>3.47</td>\n",
       "      <td>9.0</td>\n",
       "      <td>154</td>\n",
       "      <td>5000</td>\n",
       "      <td>19</td>\n",
       "      <td>26</td>\n",
       "      <td>16500</td>\n",
       "    </tr>\n",
       "    <tr>\n",
       "      <th>3</th>\n",
       "      <td>2</td>\n",
       "      <td>164</td>\n",
       "      <td>audi</td>\n",
       "      <td>gas</td>\n",
       "      <td>std</td>\n",
       "      <td>four</td>\n",
       "      <td>sedan</td>\n",
       "      <td>fwd</td>\n",
       "      <td>front</td>\n",
       "      <td>99.8</td>\n",
       "      <td>...</td>\n",
       "      <td>109</td>\n",
       "      <td>mpfi</td>\n",
       "      <td>3.19</td>\n",
       "      <td>3.40</td>\n",
       "      <td>10.0</td>\n",
       "      <td>102</td>\n",
       "      <td>5500</td>\n",
       "      <td>24</td>\n",
       "      <td>30</td>\n",
       "      <td>13950</td>\n",
       "    </tr>\n",
       "    <tr>\n",
       "      <th>4</th>\n",
       "      <td>2</td>\n",
       "      <td>164</td>\n",
       "      <td>audi</td>\n",
       "      <td>gas</td>\n",
       "      <td>std</td>\n",
       "      <td>four</td>\n",
       "      <td>sedan</td>\n",
       "      <td>4wd</td>\n",
       "      <td>front</td>\n",
       "      <td>99.4</td>\n",
       "      <td>...</td>\n",
       "      <td>136</td>\n",
       "      <td>mpfi</td>\n",
       "      <td>3.19</td>\n",
       "      <td>3.40</td>\n",
       "      <td>8.0</td>\n",
       "      <td>115</td>\n",
       "      <td>5500</td>\n",
       "      <td>18</td>\n",
       "      <td>22</td>\n",
       "      <td>17450</td>\n",
       "    </tr>\n",
       "    <tr>\n",
       "      <th>...</th>\n",
       "      <td>...</td>\n",
       "      <td>...</td>\n",
       "      <td>...</td>\n",
       "      <td>...</td>\n",
       "      <td>...</td>\n",
       "      <td>...</td>\n",
       "      <td>...</td>\n",
       "      <td>...</td>\n",
       "      <td>...</td>\n",
       "      <td>...</td>\n",
       "      <td>...</td>\n",
       "      <td>...</td>\n",
       "      <td>...</td>\n",
       "      <td>...</td>\n",
       "      <td>...</td>\n",
       "      <td>...</td>\n",
       "      <td>...</td>\n",
       "      <td>...</td>\n",
       "      <td>...</td>\n",
       "      <td>...</td>\n",
       "      <td>...</td>\n",
       "    </tr>\n",
       "    <tr>\n",
       "      <th>200</th>\n",
       "      <td>-1</td>\n",
       "      <td>95</td>\n",
       "      <td>volvo</td>\n",
       "      <td>gas</td>\n",
       "      <td>std</td>\n",
       "      <td>four</td>\n",
       "      <td>sedan</td>\n",
       "      <td>rwd</td>\n",
       "      <td>front</td>\n",
       "      <td>109.1</td>\n",
       "      <td>...</td>\n",
       "      <td>141</td>\n",
       "      <td>mpfi</td>\n",
       "      <td>3.78</td>\n",
       "      <td>3.15</td>\n",
       "      <td>9.5</td>\n",
       "      <td>114</td>\n",
       "      <td>5400</td>\n",
       "      <td>23</td>\n",
       "      <td>28</td>\n",
       "      <td>16845</td>\n",
       "    </tr>\n",
       "    <tr>\n",
       "      <th>201</th>\n",
       "      <td>-1</td>\n",
       "      <td>95</td>\n",
       "      <td>volvo</td>\n",
       "      <td>gas</td>\n",
       "      <td>turbo</td>\n",
       "      <td>four</td>\n",
       "      <td>sedan</td>\n",
       "      <td>rwd</td>\n",
       "      <td>front</td>\n",
       "      <td>109.1</td>\n",
       "      <td>...</td>\n",
       "      <td>141</td>\n",
       "      <td>mpfi</td>\n",
       "      <td>3.78</td>\n",
       "      <td>3.15</td>\n",
       "      <td>8.7</td>\n",
       "      <td>160</td>\n",
       "      <td>5300</td>\n",
       "      <td>19</td>\n",
       "      <td>25</td>\n",
       "      <td>19045</td>\n",
       "    </tr>\n",
       "    <tr>\n",
       "      <th>202</th>\n",
       "      <td>-1</td>\n",
       "      <td>95</td>\n",
       "      <td>volvo</td>\n",
       "      <td>gas</td>\n",
       "      <td>std</td>\n",
       "      <td>four</td>\n",
       "      <td>sedan</td>\n",
       "      <td>rwd</td>\n",
       "      <td>front</td>\n",
       "      <td>109.1</td>\n",
       "      <td>...</td>\n",
       "      <td>173</td>\n",
       "      <td>mpfi</td>\n",
       "      <td>3.58</td>\n",
       "      <td>2.87</td>\n",
       "      <td>8.8</td>\n",
       "      <td>134</td>\n",
       "      <td>5500</td>\n",
       "      <td>18</td>\n",
       "      <td>23</td>\n",
       "      <td>21485</td>\n",
       "    </tr>\n",
       "    <tr>\n",
       "      <th>203</th>\n",
       "      <td>-1</td>\n",
       "      <td>95</td>\n",
       "      <td>volvo</td>\n",
       "      <td>diesel</td>\n",
       "      <td>turbo</td>\n",
       "      <td>four</td>\n",
       "      <td>sedan</td>\n",
       "      <td>rwd</td>\n",
       "      <td>front</td>\n",
       "      <td>109.1</td>\n",
       "      <td>...</td>\n",
       "      <td>145</td>\n",
       "      <td>idi</td>\n",
       "      <td>3.01</td>\n",
       "      <td>3.40</td>\n",
       "      <td>23.0</td>\n",
       "      <td>106</td>\n",
       "      <td>4800</td>\n",
       "      <td>26</td>\n",
       "      <td>27</td>\n",
       "      <td>22470</td>\n",
       "    </tr>\n",
       "    <tr>\n",
       "      <th>204</th>\n",
       "      <td>-1</td>\n",
       "      <td>95</td>\n",
       "      <td>volvo</td>\n",
       "      <td>gas</td>\n",
       "      <td>turbo</td>\n",
       "      <td>four</td>\n",
       "      <td>sedan</td>\n",
       "      <td>rwd</td>\n",
       "      <td>front</td>\n",
       "      <td>109.1</td>\n",
       "      <td>...</td>\n",
       "      <td>141</td>\n",
       "      <td>mpfi</td>\n",
       "      <td>3.78</td>\n",
       "      <td>3.15</td>\n",
       "      <td>9.5</td>\n",
       "      <td>114</td>\n",
       "      <td>5400</td>\n",
       "      <td>19</td>\n",
       "      <td>25</td>\n",
       "      <td>22625</td>\n",
       "    </tr>\n",
       "  </tbody>\n",
       "</table>\n",
       "<p>205 rows × 26 columns</p>\n",
       "</div>"
      ],
      "text/plain": [
       "     0    1            2       3      4     5            6    7      8   \\\n",
       "0     3    ?  alfa-romero     gas    std   two  convertible  rwd  front   \n",
       "1     3    ?  alfa-romero     gas    std   two  convertible  rwd  front   \n",
       "2     1    ?  alfa-romero     gas    std   two    hatchback  rwd  front   \n",
       "3     2  164         audi     gas    std  four        sedan  fwd  front   \n",
       "4     2  164         audi     gas    std  four        sedan  4wd  front   \n",
       "..   ..  ...          ...     ...    ...   ...          ...  ...    ...   \n",
       "200  -1   95        volvo     gas    std  four        sedan  rwd  front   \n",
       "201  -1   95        volvo     gas  turbo  four        sedan  rwd  front   \n",
       "202  -1   95        volvo     gas    std  four        sedan  rwd  front   \n",
       "203  -1   95        volvo  diesel  turbo  four        sedan  rwd  front   \n",
       "204  -1   95        volvo     gas  turbo  four        sedan  rwd  front   \n",
       "\n",
       "        9   ...   16    17    18    19    20   21    22  23  24     25  \n",
       "0     88.6  ...  130  mpfi  3.47  2.68   9.0  111  5000  21  27  13495  \n",
       "1     88.6  ...  130  mpfi  3.47  2.68   9.0  111  5000  21  27  16500  \n",
       "2     94.5  ...  152  mpfi  2.68  3.47   9.0  154  5000  19  26  16500  \n",
       "3     99.8  ...  109  mpfi  3.19  3.40  10.0  102  5500  24  30  13950  \n",
       "4     99.4  ...  136  mpfi  3.19  3.40   8.0  115  5500  18  22  17450  \n",
       "..     ...  ...  ...   ...   ...   ...   ...  ...   ...  ..  ..    ...  \n",
       "200  109.1  ...  141  mpfi  3.78  3.15   9.5  114  5400  23  28  16845  \n",
       "201  109.1  ...  141  mpfi  3.78  3.15   8.7  160  5300  19  25  19045  \n",
       "202  109.1  ...  173  mpfi  3.58  2.87   8.8  134  5500  18  23  21485  \n",
       "203  109.1  ...  145   idi  3.01  3.40  23.0  106  4800  26  27  22470  \n",
       "204  109.1  ...  141  mpfi  3.78  3.15   9.5  114  5400  19  25  22625  \n",
       "\n",
       "[205 rows x 26 columns]"
      ]
     },
     "execution_count": 2,
     "metadata": {},
     "output_type": "execute_result"
    }
   ],
   "source": [
    "df = pd.read_csv('./imports-85.data', header=None)\n",
    "df"
   ]
  },
  {
   "cell_type": "markdown",
   "metadata": {},
   "source": [
    "## Problem 2"
   ]
  },
  {
   "cell_type": "code",
   "execution_count": 3,
   "metadata": {},
   "outputs": [
    {
     "data": {
      "text/html": [
       "<div>\n",
       "<style scoped>\n",
       "    .dataframe tbody tr th:only-of-type {\n",
       "        vertical-align: middle;\n",
       "    }\n",
       "\n",
       "    .dataframe tbody tr th {\n",
       "        vertical-align: top;\n",
       "    }\n",
       "\n",
       "    .dataframe thead th {\n",
       "        text-align: right;\n",
       "    }\n",
       "</style>\n",
       "<table border=\"1\" class=\"dataframe\">\n",
       "  <thead>\n",
       "    <tr style=\"text-align: right;\">\n",
       "      <th></th>\n",
       "      <th>wheel-base</th>\n",
       "      <th>compression-ratio</th>\n",
       "      <th>engine-size</th>\n",
       "      <th>length</th>\n",
       "      <th>width</th>\n",
       "      <th>city-mpg</th>\n",
       "    </tr>\n",
       "  </thead>\n",
       "  <tbody>\n",
       "    <tr>\n",
       "      <th>0</th>\n",
       "      <td>88.6</td>\n",
       "      <td>9.0</td>\n",
       "      <td>130</td>\n",
       "      <td>168.8</td>\n",
       "      <td>64.1</td>\n",
       "      <td>21</td>\n",
       "    </tr>\n",
       "    <tr>\n",
       "      <th>1</th>\n",
       "      <td>88.6</td>\n",
       "      <td>9.0</td>\n",
       "      <td>130</td>\n",
       "      <td>168.8</td>\n",
       "      <td>64.1</td>\n",
       "      <td>21</td>\n",
       "    </tr>\n",
       "    <tr>\n",
       "      <th>2</th>\n",
       "      <td>94.5</td>\n",
       "      <td>9.0</td>\n",
       "      <td>152</td>\n",
       "      <td>171.2</td>\n",
       "      <td>65.5</td>\n",
       "      <td>19</td>\n",
       "    </tr>\n",
       "    <tr>\n",
       "      <th>3</th>\n",
       "      <td>99.8</td>\n",
       "      <td>10.0</td>\n",
       "      <td>109</td>\n",
       "      <td>176.6</td>\n",
       "      <td>66.2</td>\n",
       "      <td>24</td>\n",
       "    </tr>\n",
       "    <tr>\n",
       "      <th>4</th>\n",
       "      <td>99.4</td>\n",
       "      <td>8.0</td>\n",
       "      <td>136</td>\n",
       "      <td>176.6</td>\n",
       "      <td>66.4</td>\n",
       "      <td>18</td>\n",
       "    </tr>\n",
       "    <tr>\n",
       "      <th>...</th>\n",
       "      <td>...</td>\n",
       "      <td>...</td>\n",
       "      <td>...</td>\n",
       "      <td>...</td>\n",
       "      <td>...</td>\n",
       "      <td>...</td>\n",
       "    </tr>\n",
       "    <tr>\n",
       "      <th>200</th>\n",
       "      <td>109.1</td>\n",
       "      <td>9.5</td>\n",
       "      <td>141</td>\n",
       "      <td>188.8</td>\n",
       "      <td>68.9</td>\n",
       "      <td>23</td>\n",
       "    </tr>\n",
       "    <tr>\n",
       "      <th>201</th>\n",
       "      <td>109.1</td>\n",
       "      <td>8.7</td>\n",
       "      <td>141</td>\n",
       "      <td>188.8</td>\n",
       "      <td>68.8</td>\n",
       "      <td>19</td>\n",
       "    </tr>\n",
       "    <tr>\n",
       "      <th>202</th>\n",
       "      <td>109.1</td>\n",
       "      <td>8.8</td>\n",
       "      <td>173</td>\n",
       "      <td>188.8</td>\n",
       "      <td>68.9</td>\n",
       "      <td>18</td>\n",
       "    </tr>\n",
       "    <tr>\n",
       "      <th>203</th>\n",
       "      <td>109.1</td>\n",
       "      <td>23.0</td>\n",
       "      <td>145</td>\n",
       "      <td>188.8</td>\n",
       "      <td>68.9</td>\n",
       "      <td>26</td>\n",
       "    </tr>\n",
       "    <tr>\n",
       "      <th>204</th>\n",
       "      <td>109.1</td>\n",
       "      <td>9.5</td>\n",
       "      <td>141</td>\n",
       "      <td>188.8</td>\n",
       "      <td>68.9</td>\n",
       "      <td>19</td>\n",
       "    </tr>\n",
       "  </tbody>\n",
       "</table>\n",
       "<p>205 rows × 6 columns</p>\n",
       "</div>"
      ],
      "text/plain": [
       "     wheel-base  compression-ratio  engine-size  length  width  city-mpg\n",
       "0          88.6                9.0          130   168.8   64.1        21\n",
       "1          88.6                9.0          130   168.8   64.1        21\n",
       "2          94.5                9.0          152   171.2   65.5        19\n",
       "3          99.8               10.0          109   176.6   66.2        24\n",
       "4          99.4                8.0          136   176.6   66.4        18\n",
       "..          ...                ...          ...     ...    ...       ...\n",
       "200       109.1                9.5          141   188.8   68.9        23\n",
       "201       109.1                8.7          141   188.8   68.8        19\n",
       "202       109.1                8.8          173   188.8   68.9        18\n",
       "203       109.1               23.0          145   188.8   68.9        26\n",
       "204       109.1                9.5          141   188.8   68.9        19\n",
       "\n",
       "[205 rows x 6 columns]"
      ]
     },
     "execution_count": 3,
     "metadata": {},
     "output_type": "execute_result"
    }
   ],
   "source": [
    "df = df[[9, 20, 16, 10, 11, 23]]\n",
    "features_names = ['wheel-base', 'compression-ratio', 'engine-size', 'length', 'width']\n",
    "target_names = ['city-mpg']\n",
    "df.columns = features_names + target_names\n",
    "df"
   ]
  },
  {
   "cell_type": "markdown",
   "metadata": {},
   "source": [
    "## Problem 3"
   ]
  },
  {
   "cell_type": "code",
   "execution_count": 4,
   "metadata": {},
   "outputs": [],
   "source": [
    "X_train, X_test, Y_train, Y_test = train_test_split(df[features_names], df[target_names], \n",
    "                                                        test_size=0.2, random_state=123)\n",
    "X_train, X_valid, Y_train, Y_valid = train_test_split(X_train, Y_train, \n",
    "                                                        test_size=0.25, random_state=123)"
   ]
  },
  {
   "cell_type": "markdown",
   "metadata": {},
   "source": [
    "## Problem 4"
   ]
  },
  {
   "cell_type": "code",
   "execution_count": 5,
   "metadata": {},
   "outputs": [],
   "source": [
    "linear_regression_model = LinearRegression()\n",
    "ridge_regression_model = Ridge()\n",
    "lasso_regression_model = Lasso()\n",
    "\n",
    "linear_regression_model.fit(X_train, Y_train)\n",
    "ridge_regression_model.fit(X_train, Y_train)\n",
    "lasso_regression_model.fit(X_train, Y_train)\n",
    "\n",
    "linear_Y_valid = linear_regression_model.predict(X_valid)\n",
    "ridge_Y_valid = ridge_regression_model.predict(X_valid)\n",
    "lasso_Y_valid = lasso_regression_model.predict(X_valid)\n",
    "linear_Y_test = linear_regression_model.predict(X_test)\n",
    "ridge_Y_test = ridge_regression_model.predict(X_test)\n",
    "lasso_Y_test = lasso_regression_model.predict(X_test)"
   ]
  },
  {
   "cell_type": "code",
   "execution_count": 6,
   "metadata": {},
   "outputs": [
    {
     "name": "stdout",
     "output_type": "stream",
     "text": [
      "Score of linear_valid_MSE: 12.177721757411803\n",
      "Score of linear_test_MSE: 10.524360977243502\n",
      "Score of ridge_valid_MSE: 12.191103881525919\n",
      "Score of ridge_test_MSE: 10.526304045031\n",
      "Score of lasso_valid_MSE: 14.548321887484414\n",
      "Score of lasso_test_MSE: 11.572907509236988\n"
     ]
    }
   ],
   "source": [
    "linear_valid_MSE = mean_squared_error(Y_valid, linear_Y_valid)\n",
    "linear_test_MSE = mean_squared_error(Y_test, linear_Y_test)\n",
    "ridge_valid_MSE = mean_squared_error(Y_valid, ridge_Y_valid)\n",
    "ridge_test_MSE = mean_squared_error(Y_test, ridge_Y_test)\n",
    "lasso_valid_MSE = mean_squared_error(Y_valid, lasso_Y_valid)\n",
    "lasso_test_MSE = mean_squared_error(Y_test, lasso_Y_test)\n",
    "\n",
    "for name, score in zip(('linear_valid_MSE', 'linear_test_MSE', 'ridge_valid_MSE', 'ridge_test_MSE', 'lasso_valid_MSE', 'lasso_test_MSE'), (linear_valid_MSE, linear_test_MSE, ridge_valid_MSE, ridge_test_MSE, lasso_valid_MSE, lasso_test_MSE)):\n",
    "    print(f'Score of {name}: {score}')"
   ]
  },
  {
   "cell_type": "code",
   "execution_count": 7,
   "metadata": {},
   "outputs": [
    {
     "name": "stdout",
     "output_type": "stream",
     "text": [
      "Score of linear_valid_r2: 0.7112647708791611\n",
      "Score of linear_test_r2: 0.6940254098452728\n",
      "Score of ridge_valid_r2: 0.7109474791271253\n",
      "Score of ridge_test_r2: 0.6939689190643875\n",
      "Score of lasso_valid_r2: 0.6550575602575348\n",
      "Score of lasso_test_r2: 0.6635410321164411\n"
     ]
    }
   ],
   "source": [
    "linear_valid_r2 = r2_score(Y_valid, linear_Y_valid)\n",
    "linear_test_r2 = r2_score(Y_test, linear_Y_test)\n",
    "ridge_valid_r2 = r2_score(Y_valid, ridge_Y_valid)\n",
    "ridge_test_r2 = r2_score(Y_test, ridge_Y_test)\n",
    "lasso_valid_r2 = r2_score(Y_valid, lasso_Y_valid)\n",
    "lasso_test_r2 = r2_score(Y_test, lasso_Y_test)\n",
    "\n",
    "for name, score in zip(('linear_valid_r2', 'linear_test_r2', 'ridge_valid_r2', 'ridge_test_r2', 'lasso_valid_r2', 'lasso_test_r2'), (linear_valid_r2, linear_test_r2, ridge_valid_r2, ridge_test_r2, lasso_valid_r2, lasso_test_r2)):\n",
    "    print(f'Score of {name}: {score}')"
   ]
  },
  {
   "cell_type": "code",
   "execution_count": 8,
   "metadata": {},
   "outputs": [
    {
     "name": "stdout",
     "output_type": "stream",
     "text": [
      "Score of linear_valid_pearson: 0.8433651468250043\n",
      "Score of linear_test_pearson: 0.8330818746349442\n",
      "Score of ridge_valid_pearson: 0.843177015298167\n",
      "Score of ridge_test_pearson: 0.8330479692457017\n",
      "Score of lasso_valid_pearson: 0.8093562628765745\n",
      "Score of lasso_test_pearson: 0.8145802797247433\n"
     ]
    }
   ],
   "source": [
    "linear_valid_pearson = r2_score(Y_valid, linear_Y_valid) ** 0.5\n",
    "linear_test_pearson = r2_score(Y_test, linear_Y_test) ** 0.5\n",
    "ridge_valid_pearson = r2_score(Y_valid, ridge_Y_valid) ** 0.5\n",
    "ridge_test_pearson = r2_score(Y_test, ridge_Y_test) ** 0.5\n",
    "lasso_valid_pearson = r2_score(Y_valid, lasso_Y_valid) ** 0.5\n",
    "lasso_test_pearson = r2_score(Y_test, lasso_Y_test) ** 0.5\n",
    "\n",
    "for name, score in zip(('linear_valid_pearson', 'linear_test_pearson', 'ridge_valid_pearson', 'ridge_test_pearson', 'lasso_valid_pearson', 'lasso_test_pearson'), (linear_valid_pearson, linear_test_pearson, ridge_valid_pearson, ridge_test_pearson, lasso_valid_pearson, lasso_test_pearson)):\n",
    "    print(f'Score of {name}: {score}')"
   ]
  },
  {
   "cell_type": "markdown",
   "metadata": {},
   "source": [
    "## Problem 5"
   ]
  },
  {
   "cell_type": "code",
   "execution_count": 9,
   "metadata": {},
   "outputs": [
    {
     "name": "stdout",
     "output_type": "stream",
     "text": [
      "Performance for model Ridge(alpha=0): MSE = 12.177721757411794 r2 = 0.7112647708791613 pearson = 0.8433651468250044\n",
      "Performance for model Ridge(alpha=0.25): MSE = 12.18107358633376 r2 = 0.711185298617351 pearson = 0.843318029344417\n",
      "Performance for model Ridge(alpha=0.5): MSE = 12.184421241828694 r2 = 0.7111059253079912 pearson = 0.8432709679029577\n",
      "Performance for model Ridge(alpha=1): MSE = 12.191103881525919 r2 = 0.7109474791271253 pearson = 0.843177015298167\n",
      "Performance for model Ridge(alpha=1000): MSE = 15.878334803409444 r2 = 0.6235227960657385 pearson = 0.7896345965481366\n",
      "\n",
      "Best alpha is 0 for model Ridge(alpha=1) \n",
      "\n",
      "Performance for model Lasso(alpha=0): MSE = 12.177721757411788 r2 = 0.7112647708791614 pearson = 0.8433651468250045\n",
      "Performance for model Lasso(alpha=0.25): MSE = 12.87208867872418 r2 = 0.6948012487103254 pearson = 0.8335473884011187\n",
      "Performance for model Lasso(alpha=0.5): MSE = 13.877796911636382 r2 = 0.6709557870678897 pearson = 0.8191189089917835\n",
      "Performance for model Lasso(alpha=1): MSE = 14.548321887484414 r2 = 0.6550575602575348 pearson = 0.8093562628765745\n",
      "Performance for model Lasso(alpha=1000): MSE = 43.97560975609757 r2 = -0.0426669299557112 pearson = nan\n",
      "\n",
      "Best alpha is 0 for model Lasso(alpha=1) \n",
      "\n"
     ]
    },
    {
     "name": "stderr",
     "output_type": "stream",
     "text": [
      "C:\\Users\\jaken\\AppData\\Local\\Temp\\ipykernel_25700\\1897133538.py:7: UserWarning: With alpha=0, this algorithm does not converge well. You are advised to use the LinearRegression estimator\n",
      "  model.fit(X_train, Y_train)\n",
      "C:\\Users\\jaken\\AppData\\Local\\Packages\\PythonSoftwareFoundation.Python.3.9_qbz5n2kfra8p0\\LocalCache\\local-packages\\Python39\\site-packages\\sklearn\\linear_model\\_coordinate_descent.py:648: UserWarning: Coordinate descent with no regularization may lead to unexpected results and is discouraged.\n",
      "  model = cd_fast.enet_coordinate_descent(\n",
      "C:\\Users\\jaken\\AppData\\Local\\Packages\\PythonSoftwareFoundation.Python.3.9_qbz5n2kfra8p0\\LocalCache\\local-packages\\Python39\\site-packages\\sklearn\\linear_model\\_coordinate_descent.py:648: ConvergenceWarning: Objective did not converge. You might want to increase the number of iterations, check the scale of the features or consider increasing regularisation. Duality gap: 7.404e+02, tolerance: 5.273e-01 Linear regression models with null weight for the l1 regularization term are more efficiently fitted using one of the solvers implemented in sklearn.linear_model.Ridge/RidgeCV instead.\n",
      "  model = cd_fast.enet_coordinate_descent(\n",
      "C:\\Users\\jaken\\AppData\\Local\\Temp\\ipykernel_25700\\1897133538.py:12: RuntimeWarning: invalid value encountered in double_scalars\n",
      "  alpha_paramter_pearson = r2_score(Y_valid, predicted_Y_valid) ** 0.5\n"
     ]
    }
   ],
   "source": [
    "best_alpha_list = []\n",
    "for model in (ridge_regression_model, lasso_regression_model):\n",
    "    best_alpha = 0\n",
    "    best_MSE = None\n",
    "    for parameter_alpha in [0, 0.25, 0.5, 1, 1000]:\n",
    "        model.alpha = parameter_alpha\n",
    "        model.fit(X_train, Y_train)\n",
    "        predicted_Y_valid = model.predict(X_valid)\n",
    "\n",
    "        alpha_paramter_MSE = mean_squared_error(Y_valid, predicted_Y_valid)\n",
    "        alpha_paramter_r2 = r2_score(Y_valid, predicted_Y_valid)\n",
    "        alpha_paramter_pearson = r2_score(Y_valid, predicted_Y_valid) ** 0.5\n",
    "        print(f'Performance for model {model}: MSE = {alpha_paramter_MSE} r2 = {alpha_paramter_r2} pearson = {alpha_paramter_pearson}')\n",
    "\n",
    "        if not best_MSE or alpha_paramter_MSE < best_MSE:\n",
    "            best_MSE = alpha_paramter_MSE\n",
    "            best_alpha = parameter_alpha\n",
    "    model.alpha = 1\n",
    "    print(f'\\nBest alpha is {best_alpha} for model {model} \\n')\n",
    "    best_alpha_list.append(best_alpha)"
   ]
  },
  {
   "cell_type": "code",
   "execution_count": 10,
   "metadata": {},
   "outputs": [
    {
     "name": "stdout",
     "output_type": "stream",
     "text": [
      "Performance for model Ridge(alpha=0): MSE = 10.524360977243527 r2 = 0.6940254098452721 pearson = 0.8330818746349437\n",
      "Performance for model Lasso(alpha=0): MSE = 10.524360977243536 r2 = 0.6940254098452718 pearson = 0.8330818746349435\n"
     ]
    },
    {
     "name": "stderr",
     "output_type": "stream",
     "text": [
      "C:\\Users\\jaken\\AppData\\Local\\Temp\\ipykernel_25700\\763659106.py:3: UserWarning: With alpha=0, this algorithm does not converge well. You are advised to use the LinearRegression estimator\n",
      "  model.fit(X_train, Y_train)\n",
      "C:\\Users\\jaken\\AppData\\Local\\Packages\\PythonSoftwareFoundation.Python.3.9_qbz5n2kfra8p0\\LocalCache\\local-packages\\Python39\\site-packages\\sklearn\\linear_model\\_coordinate_descent.py:648: UserWarning: Coordinate descent with no regularization may lead to unexpected results and is discouraged.\n",
      "  model = cd_fast.enet_coordinate_descent(\n",
      "C:\\Users\\jaken\\AppData\\Local\\Packages\\PythonSoftwareFoundation.Python.3.9_qbz5n2kfra8p0\\LocalCache\\local-packages\\Python39\\site-packages\\sklearn\\linear_model\\_coordinate_descent.py:648: ConvergenceWarning: Objective did not converge. You might want to increase the number of iterations, check the scale of the features or consider increasing regularisation. Duality gap: 7.404e+02, tolerance: 5.273e-01 Linear regression models with null weight for the l1 regularization term are more efficiently fitted using one of the solvers implemented in sklearn.linear_model.Ridge/RidgeCV instead.\n",
      "  model = cd_fast.enet_coordinate_descent(\n"
     ]
    }
   ],
   "source": [
    "for model, best_alpha in zip((ridge_regression_model, lasso_regression_model), best_alpha_list):\n",
    "    model.alpha = best_alpha\n",
    "    model.fit(X_train, Y_train)\n",
    "    predicted_Y_test = model.predict(X_test)\n",
    "    \n",
    "    alpha_paramter_MSE = mean_squared_error(Y_test, predicted_Y_test)\n",
    "    alpha_paramter_r2 = r2_score(Y_test, predicted_Y_test)\n",
    "    alpha_paramter_pearson = r2_score(Y_test, predicted_Y_test) ** 0.5\n",
    "    print(f'Performance for model {model}: MSE = {alpha_paramter_MSE} r2 = {alpha_paramter_r2} pearson = {alpha_paramter_pearson}')"
   ]
  },
  {
   "cell_type": "markdown",
   "metadata": {},
   "source": [
    "## Problem 6"
   ]
  },
  {
   "cell_type": "code",
   "execution_count": 11,
   "metadata": {},
   "outputs": [],
   "source": [
    "polynomial_transformer = PolynomialFeatures(5)\n",
    "transformed_X_train = polynomial_transformer.fit_transform(X_train)\n",
    "transformed_X_valid = polynomial_transformer.fit_transform(X_valid)\n",
    "transformed_X_test = polynomial_transformer.fit_transform(X_test)"
   ]
  },
  {
   "cell_type": "markdown",
   "metadata": {},
   "source": [
    "## Problem 7"
   ]
  },
  {
   "cell_type": "code",
   "execution_count": 12,
   "metadata": {},
   "outputs": [
    {
     "name": "stderr",
     "output_type": "stream",
     "text": [
      "C:\\Users\\jaken\\AppData\\Local\\Packages\\PythonSoftwareFoundation.Python.3.9_qbz5n2kfra8p0\\LocalCache\\local-packages\\Python39\\site-packages\\sklearn\\linear_model\\_ridge.py:251: UserWarning: Singular matrix in solving dual problem. Using least-squares solution instead.\n",
      "  warnings.warn(\n",
      "C:\\Users\\jaken\\AppData\\Local\\Temp\\ipykernel_25700\\13936399.py:12: RuntimeWarning: invalid value encountered in double_scalars\n",
      "  alpha_paramter_pearson = r2_score(Y_valid, predicted_Y_valid) ** 0.5\n",
      "C:\\Users\\jaken\\AppData\\Local\\Packages\\PythonSoftwareFoundation.Python.3.9_qbz5n2kfra8p0\\LocalCache\\local-packages\\Python39\\site-packages\\sklearn\\linear_model\\_ridge.py:251: UserWarning: Singular matrix in solving dual problem. Using least-squares solution instead.\n",
      "  warnings.warn(\n",
      "C:\\Users\\jaken\\AppData\\Local\\Temp\\ipykernel_25700\\13936399.py:12: RuntimeWarning: invalid value encountered in double_scalars\n",
      "  alpha_paramter_pearson = r2_score(Y_valid, predicted_Y_valid) ** 0.5\n",
      "C:\\Users\\jaken\\AppData\\Local\\Packages\\PythonSoftwareFoundation.Python.3.9_qbz5n2kfra8p0\\LocalCache\\local-packages\\Python39\\site-packages\\sklearn\\linear_model\\_ridge.py:251: UserWarning: Singular matrix in solving dual problem. Using least-squares solution instead.\n",
      "  warnings.warn(\n",
      "C:\\Users\\jaken\\AppData\\Local\\Temp\\ipykernel_25700\\13936399.py:12: RuntimeWarning: invalid value encountered in double_scalars\n",
      "  alpha_paramter_pearson = r2_score(Y_valid, predicted_Y_valid) ** 0.5\n",
      "C:\\Users\\jaken\\AppData\\Local\\Packages\\PythonSoftwareFoundation.Python.3.9_qbz5n2kfra8p0\\LocalCache\\local-packages\\Python39\\site-packages\\sklearn\\linear_model\\_ridge.py:251: UserWarning: Singular matrix in solving dual problem. Using least-squares solution instead.\n",
      "  warnings.warn(\n",
      "C:\\Users\\jaken\\AppData\\Local\\Temp\\ipykernel_25700\\13936399.py:12: RuntimeWarning: invalid value encountered in double_scalars\n",
      "  alpha_paramter_pearson = r2_score(Y_valid, predicted_Y_valid) ** 0.5\n",
      "C:\\Users\\jaken\\AppData\\Local\\Packages\\PythonSoftwareFoundation.Python.3.9_qbz5n2kfra8p0\\LocalCache\\local-packages\\Python39\\site-packages\\sklearn\\linear_model\\_ridge.py:251: UserWarning: Singular matrix in solving dual problem. Using least-squares solution instead.\n",
      "  warnings.warn(\n",
      "C:\\Users\\jaken\\AppData\\Local\\Temp\\ipykernel_25700\\13936399.py:12: RuntimeWarning: invalid value encountered in double_scalars\n",
      "  alpha_paramter_pearson = r2_score(Y_valid, predicted_Y_valid) ** 0.5\n",
      "C:\\Users\\jaken\\AppData\\Local\\Temp\\ipykernel_25700\\13936399.py:7: UserWarning: With alpha=0, this algorithm does not converge well. You are advised to use the LinearRegression estimator\n",
      "  model.fit(transformed_X_train, Y_train)\n",
      "C:\\Users\\jaken\\AppData\\Local\\Packages\\PythonSoftwareFoundation.Python.3.9_qbz5n2kfra8p0\\LocalCache\\local-packages\\Python39\\site-packages\\sklearn\\linear_model\\_coordinate_descent.py:648: UserWarning: Coordinate descent with no regularization may lead to unexpected results and is discouraged.\n",
      "  model = cd_fast.enet_coordinate_descent(\n"
     ]
    },
    {
     "name": "stdout",
     "output_type": "stream",
     "text": [
      "Performance for model Ridge(alpha=0): MSE = 15214.631664465465 r2 = -359.7407236870779 pearson = nan\n",
      "Performance for model Ridge(alpha=0.25): MSE = 15214.631664465465 r2 = -359.7407236870779 pearson = nan\n",
      "Performance for model Ridge(alpha=0.5): MSE = 15214.631664465465 r2 = -359.7407236870779 pearson = nan\n",
      "Performance for model Ridge(alpha=1): MSE = 15214.631664465465 r2 = -359.7407236870779 pearson = nan\n",
      "Performance for model Ridge(alpha=1000): MSE = 15214.631664465465 r2 = -359.7407236870779 pearson = nan\n",
      "\n",
      "Best alpha is 0 for model Ridge(alpha=1) \n",
      "\n",
      "Performance for model Lasso(alpha=0): MSE = 9.119171865116272 r2 = 0.7837833520654962 pearson = 0.885315396943652\n"
     ]
    },
    {
     "name": "stderr",
     "output_type": "stream",
     "text": [
      "C:\\Users\\jaken\\AppData\\Local\\Packages\\PythonSoftwareFoundation.Python.3.9_qbz5n2kfra8p0\\LocalCache\\local-packages\\Python39\\site-packages\\sklearn\\linear_model\\_coordinate_descent.py:648: ConvergenceWarning: Objective did not converge. You might want to increase the number of iterations, check the scale of the features or consider increasing regularisation. Duality gap: 3.600e+02, tolerance: 5.273e-01 Linear regression models with null weight for the l1 regularization term are more efficiently fitted using one of the solvers implemented in sklearn.linear_model.Ridge/RidgeCV instead.\n",
      "  model = cd_fast.enet_coordinate_descent(\n",
      "C:\\Users\\jaken\\AppData\\Local\\Packages\\PythonSoftwareFoundation.Python.3.9_qbz5n2kfra8p0\\LocalCache\\local-packages\\Python39\\site-packages\\sklearn\\linear_model\\_coordinate_descent.py:648: ConvergenceWarning: Objective did not converge. You might want to increase the number of iterations, check the scale of the features or consider increasing regularisation. Duality gap: 3.867e+02, tolerance: 5.273e-01\n",
      "  model = cd_fast.enet_coordinate_descent(\n",
      "C:\\Users\\jaken\\AppData\\Local\\Packages\\PythonSoftwareFoundation.Python.3.9_qbz5n2kfra8p0\\LocalCache\\local-packages\\Python39\\site-packages\\sklearn\\linear_model\\_coordinate_descent.py:648: ConvergenceWarning: Objective did not converge. You might want to increase the number of iterations, check the scale of the features or consider increasing regularisation. Duality gap: 3.961e+02, tolerance: 5.273e-01\n",
      "  model = cd_fast.enet_coordinate_descent(\n"
     ]
    },
    {
     "name": "stdout",
     "output_type": "stream",
     "text": [
      "Performance for model Lasso(alpha=0.25): MSE = 10.458951429331846 r2 = 0.7520170194828227 pearson = 0.8671891486191595\n",
      "Performance for model Lasso(alpha=0.5): MSE = 10.647068384121877 r2 = 0.7475567441435742 pearson = 0.8646136386523025\n",
      "Performance for model Lasso(alpha=1): MSE = 11.771306595946976 r2 = 0.7209009226242367 pearson = 0.8490588452069955\n",
      "Performance for model Lasso(alpha=1000): MSE = 18.47295732848199 r2 = 0.562003987853279 pearson = 0.7496692523061613\n",
      "\n",
      "Best alpha is 0 for model Lasso(alpha=1) \n",
      "\n"
     ]
    },
    {
     "name": "stderr",
     "output_type": "stream",
     "text": [
      "C:\\Users\\jaken\\AppData\\Local\\Packages\\PythonSoftwareFoundation.Python.3.9_qbz5n2kfra8p0\\LocalCache\\local-packages\\Python39\\site-packages\\sklearn\\linear_model\\_coordinate_descent.py:648: ConvergenceWarning: Objective did not converge. You might want to increase the number of iterations, check the scale of the features or consider increasing regularisation. Duality gap: 4.000e+02, tolerance: 5.273e-01\n",
      "  model = cd_fast.enet_coordinate_descent(\n",
      "C:\\Users\\jaken\\AppData\\Local\\Packages\\PythonSoftwareFoundation.Python.3.9_qbz5n2kfra8p0\\LocalCache\\local-packages\\Python39\\site-packages\\sklearn\\linear_model\\_coordinate_descent.py:648: ConvergenceWarning: Objective did not converge. You might want to increase the number of iterations, check the scale of the features or consider increasing regularisation. Duality gap: 4.484e+02, tolerance: 5.273e-01\n",
      "  model = cd_fast.enet_coordinate_descent(\n"
     ]
    }
   ],
   "source": [
    "best_alpha_list = []\n",
    "for model in (ridge_regression_model, lasso_regression_model):\n",
    "    best_alpha = 0\n",
    "    best_MSE = None\n",
    "    for parameter_alpha in [0, 0.25, 0.5, 1, 1000]:\n",
    "        model.alpha = parameter_alpha\n",
    "        model.fit(transformed_X_train, Y_train)\n",
    "        predicted_Y_valid = model.predict(transformed_X_valid)\n",
    "\n",
    "        alpha_paramter_MSE = mean_squared_error(Y_valid, predicted_Y_valid)\n",
    "        alpha_paramter_r2 = r2_score(Y_valid, predicted_Y_valid)\n",
    "        alpha_paramter_pearson = r2_score(Y_valid, predicted_Y_valid) ** 0.5\n",
    "        print(f'Performance for model {model}: MSE = {alpha_paramter_MSE} r2 = {alpha_paramter_r2} pearson = {alpha_paramter_pearson}')\n",
    "\n",
    "        if not best_MSE or alpha_paramter_MSE < best_MSE:\n",
    "            best_MSE = alpha_paramter_MSE\n",
    "            best_alpha = parameter_alpha\n",
    "    model.alpha = 1\n",
    "    print(f'\\nBest alpha is {best_alpha} for model {model} \\n')\n",
    "    best_alpha_list.append(best_alpha)\n",
    "\n",
    "#BTW one of the results for Ridge gives a prediction of -772 which is why the metrics are screwed up"
   ]
  },
  {
   "cell_type": "code",
   "execution_count": 13,
   "metadata": {},
   "outputs": [
    {
     "name": "stdout",
     "output_type": "stream",
     "text": [
      "Performance for model Ridge(alpha=0): MSE = 377.8783950706255 r2 = -9.986052959420986 pearson = nan\n",
      "Performance for model Lasso(alpha=0): MSE = 15.842480360824133 r2 = 0.5394118041067906 pearson = 0.7344465971783044\n"
     ]
    },
    {
     "name": "stderr",
     "output_type": "stream",
     "text": [
      "C:\\Users\\jaken\\AppData\\Local\\Packages\\PythonSoftwareFoundation.Python.3.9_qbz5n2kfra8p0\\LocalCache\\local-packages\\Python39\\site-packages\\sklearn\\linear_model\\_ridge.py:251: UserWarning: Singular matrix in solving dual problem. Using least-squares solution instead.\n",
      "  warnings.warn(\n",
      "C:\\Users\\jaken\\AppData\\Local\\Temp\\ipykernel_25700\\909182821.py:8: RuntimeWarning: invalid value encountered in double_scalars\n",
      "  alpha_paramter_pearson = r2_score(Y_test, predicted_Y_test) ** 0.5\n",
      "C:\\Users\\jaken\\AppData\\Local\\Temp\\ipykernel_25700\\909182821.py:3: UserWarning: With alpha=0, this algorithm does not converge well. You are advised to use the LinearRegression estimator\n",
      "  model.fit(transformed_X_train, Y_train)\n",
      "C:\\Users\\jaken\\AppData\\Local\\Packages\\PythonSoftwareFoundation.Python.3.9_qbz5n2kfra8p0\\LocalCache\\local-packages\\Python39\\site-packages\\sklearn\\linear_model\\_coordinate_descent.py:648: UserWarning: Coordinate descent with no regularization may lead to unexpected results and is discouraged.\n",
      "  model = cd_fast.enet_coordinate_descent(\n",
      "C:\\Users\\jaken\\AppData\\Local\\Packages\\PythonSoftwareFoundation.Python.3.9_qbz5n2kfra8p0\\LocalCache\\local-packages\\Python39\\site-packages\\sklearn\\linear_model\\_coordinate_descent.py:648: ConvergenceWarning: Objective did not converge. You might want to increase the number of iterations, check the scale of the features or consider increasing regularisation. Duality gap: 3.600e+02, tolerance: 5.273e-01 Linear regression models with null weight for the l1 regularization term are more efficiently fitted using one of the solvers implemented in sklearn.linear_model.Ridge/RidgeCV instead.\n",
      "  model = cd_fast.enet_coordinate_descent(\n"
     ]
    }
   ],
   "source": [
    "for model, best_alpha in zip((ridge_regression_model, lasso_regression_model), best_alpha_list):\n",
    "    model.alpha = best_alpha\n",
    "    model.fit(transformed_X_train, Y_train)\n",
    "    predicted_Y_test = model.predict(transformed_X_test)\n",
    "    \n",
    "    alpha_paramter_MSE = mean_squared_error(Y_test, predicted_Y_test)\n",
    "    alpha_paramter_r2 = r2_score(Y_test, predicted_Y_test)\n",
    "    alpha_paramter_pearson = r2_score(Y_test, predicted_Y_test) ** 0.5\n",
    "    print(f'Performance for model {model}: MSE = {alpha_paramter_MSE} r2 = {alpha_paramter_r2} pearson = {alpha_paramter_pearson}')\n",
    "    # For if feature weights matter for Ridge and Lasso of Polynomial Features\n",
    "    #print(f'Model {model} feature weights: {model.coef_}')"
   ]
  },
  {
   "cell_type": "markdown",
   "metadata": {},
   "source": [
    "## Problem 8"
   ]
  },
  {
   "cell_type": "code",
   "execution_count": 14,
   "metadata": {},
   "outputs": [
    {
     "name": "stdout",
     "output_type": "stream",
     "text": [
      "[[ 0.38440687  0.60777563 -0.03302006 -0.37403792 -0.71525745]]\n",
      "[ 0.38440687  0.60777563 -0.03302006 -0.37403792 -0.71525745]\n"
     ]
    },
    {
     "name": "stderr",
     "output_type": "stream",
     "text": [
      "C:\\Users\\jaken\\AppData\\Local\\Temp\\ipykernel_25700\\3075239862.py:8: UserWarning: With alpha=0, this algorithm does not converge well. You are advised to use the LinearRegression estimator\n",
      "  lasso_regression_model.fit(X_train, Y_train)\n",
      "C:\\Users\\jaken\\AppData\\Local\\Packages\\PythonSoftwareFoundation.Python.3.9_qbz5n2kfra8p0\\LocalCache\\local-packages\\Python39\\site-packages\\sklearn\\linear_model\\_coordinate_descent.py:648: UserWarning: Coordinate descent with no regularization may lead to unexpected results and is discouraged.\n",
      "  model = cd_fast.enet_coordinate_descent(\n",
      "C:\\Users\\jaken\\AppData\\Local\\Packages\\PythonSoftwareFoundation.Python.3.9_qbz5n2kfra8p0\\LocalCache\\local-packages\\Python39\\site-packages\\sklearn\\linear_model\\_coordinate_descent.py:648: ConvergenceWarning: Objective did not converge. You might want to increase the number of iterations, check the scale of the features or consider increasing regularisation. Duality gap: 7.404e+02, tolerance: 5.273e-01 Linear regression models with null weight for the l1 regularization term are more efficiently fitted using one of the solvers implemented in sklearn.linear_model.Ridge/RidgeCV instead.\n",
      "  model = cd_fast.enet_coordinate_descent(\n"
     ]
    }
   ],
   "source": [
    "#I'm assuming that we use the feature weights for the non-Polynomial Featured models since the features are not human understandable\n",
    "\n",
    "#Using best alpha for previous question\n",
    "ridge_regression_model.alpha = 0\n",
    "lasso_regression_model.alpha = 0\n",
    "\n",
    "ridge_regression_model.fit(X_train, Y_train)\n",
    "lasso_regression_model.fit(X_train, Y_train)\n",
    "\n",
    "print(ridge_regression_model.coef_)\n",
    "print(lasso_regression_model.coef_)"
   ]
  },
  {
   "cell_type": "markdown",
   "metadata": {},
   "source": [
    "Seeing the weights we can see that features 2 and 5 were the largest, meaning the width and compression ratio.\n",
    "The smallest weight by far was for feature 3 engine size, being only -0.03302006"
   ]
  }
 ],
 "metadata": {
  "kernelspec": {
   "display_name": "Python 3",
   "language": "python",
   "name": "python3"
  },
  "language_info": {
   "codemirror_mode": {
    "name": "ipython",
    "version": 3
   },
   "file_extension": ".py",
   "mimetype": "text/x-python",
   "name": "python",
   "nbconvert_exporter": "python",
   "pygments_lexer": "ipython3",
   "version": "3.9.13"
  },
  "orig_nbformat": 4
 },
 "nbformat": 4,
 "nbformat_minor": 2
}

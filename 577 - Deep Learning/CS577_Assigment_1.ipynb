{
 "cells": [
  {
   "attachments": {},
   "cell_type": "markdown",
   "id": "fc973e34",
   "metadata": {},
   "source": [
    "# Assignment 1"
   ]
  },
  {
   "attachments": {},
   "cell_type": "markdown",
   "id": "b4eef000",
   "metadata": {},
   "source": [
    "## Programming Questions (Question 4: 45 points, Question 5, 30 points)"
   ]
  },
  {
   "attachments": {},
   "cell_type": "markdown",
   "id": "d9ca8401",
   "metadata": {},
   "source": [
    "4.Load mnist dataset. Normalize the data. Split the data into training, validation and testing set. \n",
    "\n",
    "Build a CNN network with convolution layers, pooling layers to classify the number.  \n",
    "\n",
    "Plot the training loss and validation loss as a function of epochs.\n",
    "\n",
    "Plot the both training accuracy and validation accuracy as a function of epochs. \n",
    "\n",
    "Print the testing accuracy."
   ]
  },
  {
   "attachments": {},
   "cell_type": "markdown",
   "id": "173cf8c2",
   "metadata": {},
   "source": [
    "**Note:** Initial code has been provided to import the necessary packages and load the dataset. Now that we have introduced PyTorch programming, you should use it to solve the programming problems in this assignment."
   ]
  },
  {
   "cell_type": "code",
   "execution_count": 6,
   "id": "ebe9469b",
   "metadata": {},
   "outputs": [],
   "source": [
    "import torch\n",
    "import torch.nn as nn\n",
    "import torch.optim as optim\n",
    "import torch.utils as utils\n",
    "from torch.utils.data import DataLoader\n",
    "import torchvision\n",
    "import torchvision.transforms as transforms\n",
    "import matplotlib.pyplot as plt\n",
    "import numpy as np"
   ]
  },
  {
   "cell_type": "code",
   "execution_count": 2,
   "id": "ae698b68",
   "metadata": {},
   "outputs": [],
   "source": [
    "transform = transforms.Compose([transforms.ToTensor(), transforms.Normalize((0.5,), (0.5,))])\n",
    "training_data = torchvision.datasets.MNIST(root='./data', train=True, download=True, transform=transform)\n",
    "testing_set = torchvision.datasets.MNIST(root='./data', train=False, download=True, transform=transform)\n",
    "training_set, validation_set = utils.data.random_split(training_data, [50000, 10000])"
   ]
  },
  {
   "cell_type": "code",
   "execution_count": 3,
   "id": "efb5bbbc",
   "metadata": {},
   "outputs": [],
   "source": [
    "batch_size = 4\n",
    "trainloader = DataLoader(training_set, batch_size=batch_size,\n",
    "                                          shuffle=True, num_workers=2)\n",
    "valloader = DataLoader(validation_set, batch_size=batch_size,\n",
    "                                          shuffle=True, num_workers=2)\n",
    "testloader = DataLoader(testing_set, batch_size=batch_size,\n",
    "                                         shuffle=False, num_workers=2)\n"
   ]
  },
  {
   "cell_type": "code",
   "execution_count": 4,
   "id": "02c4ed47",
   "metadata": {},
   "outputs": [],
   "source": [
    "class CNN(nn.Module):\n",
    "    def __init__(self):\n",
    "        super().__init__()\n",
    "        self.conv1 = nn.Conv2d(1, 3, 5)\n",
    "        self.pool = nn.MaxPool2d(2, 2)\n",
    "        self.conv2 = nn.Conv2d(3, 6, 5)\n",
    "        self.fc1 = nn.Linear(6 * 4 * 4, 120)\n",
    "        self.fc2 = nn.Linear(120, 84)\n",
    "        self.fc3 = nn.Linear(84, 10)\n",
    "\n",
    "\n",
    "    def forward(self, x):\n",
    "        x = self.pool(nn.functional.relu(self.conv1(x)))\n",
    "        x = self.pool(nn.functional.relu(self.conv2(x)))\n",
    "        x = torch.flatten(x, 1) # flatten all dimensions except batch\n",
    "        x = nn.functional.relu(self.fc1(x))\n",
    "        x = nn.functional.relu(self.fc2(x))\n",
    "        x = self.fc3(x)\n",
    "        return x\n",
    "\n",
    "\n",
    "mnist_network = CNN()\n",
    "\n",
    "criterion = nn.CrossEntropyLoss()\n",
    "optimizer = optim.SGD(mnist_network.parameters(), lr=0.001, momentum=0.9)"
   ]
  },
  {
   "cell_type": "code",
   "execution_count": 5,
   "id": "b0a02b4d",
   "metadata": {},
   "outputs": [
    {
     "name": "stdout",
     "output_type": "stream",
     "text": [
      "[1,  2000] loss: 1.301\n",
      "[1,  4000] loss: 0.292\n",
      "[1,  6000] loss: 0.208\n",
      "[1,  8000] loss: 0.175\n",
      "[1, 10000] loss: 0.141\n",
      "[1, 12000] loss: 0.129\n",
      "[2,  2000] loss: 0.103\n",
      "[2,  4000] loss: 0.100\n",
      "[2,  6000] loss: 0.101\n",
      "[2,  8000] loss: 0.097\n",
      "[2, 10000] loss: 0.092\n",
      "[2, 12000] loss: 0.100\n",
      "Finished Training\n"
     ]
    }
   ],
   "source": [
    "epoch_count = []\n",
    "epoch_training_loss = []\n",
    "epoch_training_accuracy = []\n",
    "epoch_validation_loss = []\n",
    "epoch_validation_accuracy = []\n",
    "\n",
    "for epoch in range(2):  # loop over the dataset multiple times\n",
    "    epoch_count.append(epoch+1)\n",
    "    running_loss = 0.0\n",
    "    total_loss = 0.0\n",
    "    total = 0\n",
    "    correct = 0\n",
    "\n",
    "    for i, data in enumerate(trainloader, 0):\n",
    "        # get the inputs; data is a list of [inputs, labels]\n",
    "        inputs, labels = data\n",
    "\n",
    "        # zero the parameter gradients\n",
    "        optimizer.zero_grad()\n",
    "\n",
    "        # forward + backward + optimize\n",
    "        outputs = mnist_network(inputs)\n",
    "        loss = criterion(outputs, labels)\n",
    "        loss.backward()\n",
    "        optimizer.step()\n",
    "\n",
    "        # calc training accuracy and loss\n",
    "        total_loss += loss.item()\n",
    "\n",
    "        _, predicted = torch.max(outputs.data, 1)\n",
    "        total += labels.size(0)\n",
    "        correct += (predicted == labels).sum().item()\n",
    "\n",
    "        # print statistics\n",
    "        running_loss += loss.item()\n",
    "        if i % 2000 == 1999:    # print every 2000 mini-batches\n",
    "            print(f'[{epoch + 1}, {i + 1:5d}] loss: {running_loss / 2000:.3f}')\n",
    "            running_loss = 0.0\n",
    "\n",
    "    epoch_training_loss.append(total_loss / total)\n",
    "    epoch_training_accuracy.append(correct / total)\n",
    "\n",
    "    with torch.no_grad():\n",
    "        total_loss = 0.0\n",
    "        total = 0\n",
    "        correct = 0\n",
    "        for data in valloader:\n",
    "            inputs, labels = data\n",
    "            # calculate outputs by running images through the network\n",
    "            outputs = mnist_network(inputs)\n",
    "            loss = criterion(outputs, labels)\n",
    "\n",
    "            total_loss += loss.item()\n",
    "            \n",
    "            # the class with the highest energy is what we choose as prediction\n",
    "            _, predicted = torch.max(outputs.data, 1)\n",
    "            total += labels.size(0)\n",
    "            correct += (predicted == labels).sum().item()\n",
    "\n",
    "    epoch_validation_loss.append(total_loss / total)\n",
    "    epoch_validation_accuracy.append(correct / total)\n",
    "    \n",
    "\n",
    "print('Finished Training')"
   ]
  },
  {
   "cell_type": "code",
   "execution_count": 8,
   "id": "fb6bb4df",
   "metadata": {},
   "outputs": [
    {
     "data": {
      "image/png": "[encoded data removed]",
      "text/plain": [
       "<Figure size 640x480 with 1 Axes>"
      ]
     },
     "metadata": {},
     "output_type": "display_data"
    }
   ],
   "source": [
    "fig, ax = plt.subplots()\n",
    "ax.scatter(epoch_count, epoch_training_loss, c='blue', label='training_loss')\n",
    "ax.scatter(epoch_count, epoch_validation_loss, c='red', label='validation_loss')\n",
    "\n",
    "training_function = np.polyfit(epoch_count, epoch_training_loss, 1)\n",
    "training_trendline = np.poly1d(training_function)\n",
    "plt.plot(epoch_count, training_trendline(epoch_count))\n",
    "\n",
    "validation_function = np.polyfit(epoch_count, epoch_validation_loss, 1)\n",
    "validation_trendline = np.poly1d(validation_function)\n",
    "plt.plot(epoch_count, validation_trendline(epoch_count))\n",
    "\n",
    "ax.legend()\n",
    "ax.grid(True)\n",
    "\n",
    "plt.show()"
   ]
  },
  {
   "cell_type": "code",
   "execution_count": 9,
   "id": "922f780a",
   "metadata": {},
   "outputs": [
    {
     "data": {
      "image/png": "[encoded data removed]",
      "text/plain": [
       "<Figure size 640x480 with 1 Axes>"
      ]
     },
     "metadata": {},
     "output_type": "display_data"
    }
   ],
   "source": [
    "fig, ax = plt.subplots()\n",
    "ax.scatter(epoch_count, epoch_training_accuracy, c='blue', label='training_accuracy')\n",
    "ax.scatter(epoch_count, epoch_validation_accuracy, c='red', label='validation_accuracy')\n",
    "\n",
    "training_function = np.polyfit(epoch_count, epoch_training_accuracy, 1)\n",
    "training_trendline = np.poly1d(training_function)\n",
    "plt.plot(epoch_count, training_trendline(epoch_count))\n",
    "\n",
    "validation_function = np.polyfit(epoch_count, epoch_validation_accuracy, 1)\n",
    "validation_trendline = np.poly1d(validation_function)\n",
    "plt.plot(epoch_count, validation_trendline(epoch_count))\n",
    "\n",
    "ax.legend()\n",
    "ax.grid(True)\n",
    "\n",
    "plt.show()"
   ]
  },
  {
   "cell_type": "code",
   "execution_count": 10,
   "id": "037bfab3",
   "metadata": {},
   "outputs": [
    {
     "name": "stdout",
     "output_type": "stream",
     "text": [
      "Testing Accuracy: 0.975\n"
     ]
    }
   ],
   "source": [
    "correct = 0\n",
    "total = 0\n",
    "# since we're not training, we don't need to calculate the gradients for our outputs\n",
    "with torch.no_grad():\n",
    "    for data in testloader:\n",
    "        images, labels = data\n",
    "        # calculate outputs by running images through the network\n",
    "        outputs = mnist_network(images)\n",
    "        # the class with the highest energy is what we choose as prediction\n",
    "        _, predicted = torch.max(outputs.data, 1)\n",
    "        total += labels.size(0)\n",
    "        correct += (predicted == labels).sum().item()\n",
    "\n",
    "print(f'Testing Accuracy: {correct / total}')"
   ]
  },
  {
   "attachments": {},
   "cell_type": "markdown",
   "id": "f3b271d2",
   "metadata": {},
   "source": [
    "5.Load cifar10 dataset. Build a CNN network with convolution layers to classify the images. \n",
    "\n",
    "Print the accuracy.  \n",
    "\n",
    "Tune the hyper parameters if needed to get a good accuracy. \n",
    "\n"
   ]
  },
  {
   "cell_type": "code",
   "execution_count": 11,
   "id": "599e0da4",
   "metadata": {},
   "outputs": [
    {
     "name": "stdout",
     "output_type": "stream",
     "text": [
      "Files already downloaded and verified\n",
      "Files already downloaded and verified\n"
     ]
    }
   ],
   "source": [
    "transform = transforms.Compose([\n",
    "    transforms.RandomHorizontalFlip(),\n",
    "    transforms.RandomCrop(32, padding=4),\n",
    "    transforms.ToTensor(),\n",
    "    transforms.Normalize((0.5, 0.5, 0.5), (0.5, 0.5, 0.5))])\n",
    "training_set = torchvision.datasets.CIFAR10(root='./data', train=True, download=True, transform=transform)\n",
    "testing_set = torchvision.datasets.CIFAR10(root='./data', train=False, download=True, transform=transform)"
   ]
  },
  {
   "cell_type": "code",
   "execution_count": 12,
   "id": "60c43042",
   "metadata": {},
   "outputs": [],
   "source": [
    "batch_size = 4\n",
    "trainloader = DataLoader(training_set, batch_size=batch_size,\n",
    "                                          shuffle=True, num_workers=2)\n",
    "testloader = DataLoader(testing_set, batch_size=batch_size,\n",
    "                                         shuffle=False, num_workers=2)"
   ]
  },
  {
   "cell_type": "code",
   "execution_count": 13,
   "id": "5de7e320",
   "metadata": {},
   "outputs": [],
   "source": [
    "class CNN(nn.Module):\n",
    "    def __init__(self):\n",
    "        super().__init__()\n",
    "        self.conv1 = nn.Conv2d(3, 6, 4)\n",
    "        self.pool = nn.MaxPool2d(2, 2)\n",
    "        self.conv2 = nn.Conv2d(6, 16, 3)\n",
    "        self.fc1 = nn.Linear(16 * 6 * 6, 120)\n",
    "        self.fc2 = nn.Linear(120, 84)\n",
    "        self.fc3 = nn.Linear(84, 10)\n",
    "\n",
    "\n",
    "    def forward(self, x):\n",
    "        x = self.pool(nn.functional.relu(self.conv1(x)))\n",
    "        x = self.pool(nn.functional.relu(self.conv2(x)))\n",
    "        x = torch.flatten(x, 1) # flatten all dimensions except batch\n",
    "        x = nn.functional.relu(self.fc1(x))\n",
    "        x = nn.functional.relu(self.fc2(x))\n",
    "        x = self.fc3(x)\n",
    "        return x\n",
    "\n",
    "\n",
    "cifar_network = CNN()\n",
    "\n",
    "criterion = nn.CrossEntropyLoss()\n",
    "optimizer = optim.SGD(cifar_network.parameters(), lr=0.001, momentum=0.9)"
   ]
  },
  {
   "cell_type": "code",
   "execution_count": 14,
   "id": "59cb8aed",
   "metadata": {},
   "outputs": [
    {
     "name": "stdout",
     "output_type": "stream",
     "text": [
      "[1,  2000] loss: 2.237\n",
      "[1,  4000] loss: 1.975\n",
      "[1,  6000] loss: 1.816\n",
      "[1,  8000] loss: 1.746\n",
      "[1, 10000] loss: 1.654\n",
      "[1, 12000] loss: 1.636\n",
      "[2,  2000] loss: 1.572\n",
      "[2,  4000] loss: 1.549\n",
      "[2,  6000] loss: 1.528\n",
      "[2,  8000] loss: 1.475\n",
      "[2, 10000] loss: 1.462\n",
      "[2, 12000] loss: 1.402\n",
      "[3,  2000] loss: 1.395\n",
      "[3,  4000] loss: 1.398\n",
      "[3,  6000] loss: 1.377\n",
      "[3,  8000] loss: 1.373\n",
      "[3, 10000] loss: 1.335\n",
      "[3, 12000] loss: 1.333\n",
      "[4,  2000] loss: 1.292\n",
      "[4,  4000] loss: 1.310\n",
      "[4,  6000] loss: 1.306\n",
      "[4,  8000] loss: 1.309\n",
      "[4, 10000] loss: 1.282\n",
      "[4, 12000] loss: 1.271\n",
      "[5,  2000] loss: 1.260\n",
      "[5,  4000] loss: 1.260\n",
      "[5,  6000] loss: 1.254\n",
      "[5,  8000] loss: 1.232\n",
      "[5, 10000] loss: 1.231\n",
      "[5, 12000] loss: 1.218\n",
      "[6,  2000] loss: 1.215\n",
      "[6,  4000] loss: 1.197\n",
      "[6,  6000] loss: 1.194\n",
      "[6,  8000] loss: 1.199\n",
      "[6, 10000] loss: 1.213\n",
      "[6, 12000] loss: 1.191\n",
      "[7,  2000] loss: 1.163\n",
      "[7,  4000] loss: 1.153\n",
      "[7,  6000] loss: 1.189\n",
      "[7,  8000] loss: 1.155\n",
      "[7, 10000] loss: 1.166\n",
      "[7, 12000] loss: 1.156\n",
      "[8,  2000] loss: 1.161\n",
      "[8,  4000] loss: 1.152\n",
      "[8,  6000] loss: 1.127\n",
      "[8,  8000] loss: 1.130\n",
      "[8, 10000] loss: 1.140\n",
      "[8, 12000] loss: 1.129\n",
      "[9,  2000] loss: 1.127\n",
      "[9,  4000] loss: 1.118\n",
      "[9,  6000] loss: 1.125\n",
      "[9,  8000] loss: 1.127\n",
      "[9, 10000] loss: 1.115\n",
      "[9, 12000] loss: 1.111\n",
      "[10,  2000] loss: 1.106\n",
      "[10,  4000] loss: 1.108\n",
      "[10,  6000] loss: 1.094\n",
      "[10,  8000] loss: 1.111\n",
      "[10, 10000] loss: 1.090\n",
      "[10, 12000] loss: 1.093\n",
      "Finished Training\n"
     ]
    }
   ],
   "source": [
    "for epoch in range(10):  # loop over the dataset multiple times\n",
    "    running_loss = 0.0\n",
    "\n",
    "    for i, data in enumerate(trainloader, 0):\n",
    "        # get the inputs; data is a list of [inputs, labels]\n",
    "        inputs, labels = data\n",
    "\n",
    "        # zero the parameter gradients\n",
    "        optimizer.zero_grad()\n",
    "\n",
    "        # forward + backward + optimize\n",
    "        outputs = cifar_network(inputs)\n",
    "        loss = criterion(outputs, labels)\n",
    "        loss.backward()\n",
    "        optimizer.step()\n",
    "\n",
    "        # print statistics\n",
    "        running_loss += loss.item()\n",
    "        if i % 2000 == 1999:    # print every 2000 mini-batches\n",
    "            print(f'[{epoch + 1}, {i + 1:5d}] loss: {running_loss / 2000:.3f}') \n",
    "            running_loss = 0.0   \n",
    "\n",
    "print('Finished Training')"
   ]
  },
  {
   "cell_type": "code",
   "execution_count": 15,
   "id": "211b0663",
   "metadata": {},
   "outputs": [
    {
     "name": "stdout",
     "output_type": "stream",
     "text": [
      "Testing Accuracy: 0.6068\n"
     ]
    }
   ],
   "source": [
    "correct = 0\n",
    "total = 0\n",
    "# since we're not training, we don't need to calculate the gradients for our outputs\n",
    "with torch.no_grad():\n",
    "    for data in testloader:\n",
    "        images, labels = data\n",
    "        # calculate outputs by running images through the network\n",
    "        outputs = cifar_network(images)\n",
    "        # the class with the highest energy is what we choose as prediction\n",
    "        _, predicted = torch.max(outputs.data, 1)\n",
    "        total += labels.size(0)\n",
    "        correct += (predicted == labels).sum().item()\n",
    "\n",
    "print(f'Testing Accuracy: {correct / total}')"
   ]
  }
 ],
 "metadata": {
  "kernelspec": {
   "display_name": "Python 3 (ipykernel)",
   "language": "python",
   "name": "python3"
  },
  "language_info": {
   "codemirror_mode": {
    "name": "ipython",
    "version": 3
   },
   "file_extension": ".py",
   "mimetype": "text/x-python",
   "name": "python",
   "nbconvert_exporter": "python",
   "pygments_lexer": "ipython3",
   "version": "3.11.5"
  }
 },
 "nbformat": 4,
 "nbformat_minor": 5
}
